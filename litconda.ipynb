{
 "cells": [
  {
   "cell_type": "code",
   "execution_count": 1,
   "metadata": {},
   "outputs": [
    {
     "name": "stdout",
     "output_type": "stream",
     "text": [
      "Requirement already satisfied: catboost in c:\\users\\nt465\\.conda\\envs\\testenv\\lib\\site-packages (1.2.7)\n",
      "Requirement already satisfied: pandas in c:\\users\\nt465\\.conda\\envs\\testenv\\lib\\site-packages (1.3.5)\n",
      "Requirement already satisfied: scikit-learn in c:\\users\\nt465\\.conda\\envs\\testenv\\lib\\site-packages (1.0.2)\n",
      "Requirement already satisfied: graphviz in c:\\users\\nt465\\.conda\\envs\\testenv\\lib\\site-packages (from catboost) (0.20.1)\n",
      "Requirement already satisfied: matplotlib in c:\\users\\nt465\\.conda\\envs\\testenv\\lib\\site-packages (from catboost) (3.5.3)\n",
      "Requirement already satisfied: numpy<2.0,>=1.16.0 in c:\\users\\nt465\\.conda\\envs\\testenv\\lib\\site-packages (from catboost) (1.21.6)\n",
      "Requirement already satisfied: scipy in c:\\users\\nt465\\.conda\\envs\\testenv\\lib\\site-packages (from catboost) (1.7.3)\n",
      "Requirement already satisfied: plotly in c:\\users\\nt465\\.conda\\envs\\testenv\\lib\\site-packages (from catboost) (5.18.0)\n",
      "Requirement already satisfied: six in c:\\users\\nt465\\.conda\\envs\\testenv\\lib\\site-packages (from catboost) (1.16.0)\n",
      "Requirement already satisfied: python-dateutil>=2.7.3 in c:\\users\\nt465\\.conda\\envs\\testenv\\lib\\site-packages (from pandas) (2.8.2)\n",
      "Requirement already satisfied: pytz>=2017.3 in c:\\users\\nt465\\.conda\\envs\\testenv\\lib\\site-packages (from pandas) (2024.2)\n",
      "Requirement already satisfied: joblib>=0.11 in c:\\users\\nt465\\.conda\\envs\\testenv\\lib\\site-packages (from scikit-learn) (1.3.2)\n",
      "Requirement already satisfied: threadpoolctl>=2.0.0 in c:\\users\\nt465\\.conda\\envs\\testenv\\lib\\site-packages (from scikit-learn) (3.1.0)\n",
      "Requirement already satisfied: cycler>=0.10 in c:\\users\\nt465\\.conda\\envs\\testenv\\lib\\site-packages (from matplotlib->catboost) (0.11.0)\n",
      "Requirement already satisfied: fonttools>=4.22.0 in c:\\users\\nt465\\.conda\\envs\\testenv\\lib\\site-packages (from matplotlib->catboost) (4.38.0)\n",
      "Requirement already satisfied: kiwisolver>=1.0.1 in c:\\users\\nt465\\.conda\\envs\\testenv\\lib\\site-packages (from matplotlib->catboost) (1.4.5)\n",
      "Requirement already satisfied: packaging>=20.0 in c:\\users\\nt465\\.conda\\envs\\testenv\\lib\\site-packages (from matplotlib->catboost) (22.0)\n",
      "Requirement already satisfied: pillow>=6.2.0 in c:\\users\\nt465\\.conda\\envs\\testenv\\lib\\site-packages (from matplotlib->catboost) (9.5.0)\n",
      "Requirement already satisfied: pyparsing>=2.2.1 in c:\\users\\nt465\\.conda\\envs\\testenv\\lib\\site-packages (from matplotlib->catboost) (3.1.2)\n",
      "Requirement already satisfied: tenacity>=6.2.0 in c:\\users\\nt465\\.conda\\envs\\testenv\\lib\\site-packages (from plotly->catboost) (8.2.3)\n",
      "Requirement already satisfied: typing-extensions in c:\\users\\nt465\\.conda\\envs\\testenv\\lib\\site-packages (from kiwisolver>=1.0.1->matplotlib->catboost) (4.7.1)\n"
     ]
    }
   ],
   "source": [
    "!pip install catboost pandas scikit-learn\n"
   ]
  },
  {
   "cell_type": "code",
   "execution_count": 2,
   "metadata": {},
   "outputs": [],
   "source": [
    "import pandas as pd\n",
    "import numpy as np\n",
    "from sklearn.model_selection import train_test_split\n",
    "from sklearn.preprocessing import StandardScaler\n",
    "from sklearn.impute import SimpleImputer\n",
    "from catboost import CatBoostRegressor\n",
    "from sklearn.metrics import mean_squared_error, r2_score\n"
   ]
  },
  {
   "cell_type": "code",
   "execution_count": 3,
   "metadata": {},
   "outputs": [
    {
     "data": {
      "text/html": [
       "<div>\n",
       "<style scoped>\n",
       "    .dataframe tbody tr th:only-of-type {\n",
       "        vertical-align: middle;\n",
       "    }\n",
       "\n",
       "    .dataframe tbody tr th {\n",
       "        vertical-align: top;\n",
       "    }\n",
       "\n",
       "    .dataframe thead th {\n",
       "        text-align: right;\n",
       "    }\n",
       "</style>\n",
       "<table border=\"1\" class=\"dataframe\">\n",
       "  <thead>\n",
       "    <tr style=\"text-align: right;\">\n",
       "      <th></th>\n",
       "      <th>Cement</th>\n",
       "      <th>Blast Furnance Slag</th>\n",
       "      <th>Fly Ash</th>\n",
       "      <th>Water</th>\n",
       "      <th>Limestone Powder</th>\n",
       "      <th>Silica Fume</th>\n",
       "      <th>Quartz Powder</th>\n",
       "      <th>Superplasticizer</th>\n",
       "      <th>Coarse Aggregate</th>\n",
       "      <th>Fiber</th>\n",
       "      <th>Nano-Silica</th>\n",
       "      <th>Fine Aggregate</th>\n",
       "      <th>Age</th>\n",
       "      <th>Compressive Strength</th>\n",
       "    </tr>\n",
       "  </thead>\n",
       "  <tbody>\n",
       "    <tr>\n",
       "      <th>0</th>\n",
       "      <td>540.0</td>\n",
       "      <td>0.0</td>\n",
       "      <td>0.0</td>\n",
       "      <td>162.0</td>\n",
       "      <td>0.0</td>\n",
       "      <td>0.0</td>\n",
       "      <td>0.0</td>\n",
       "      <td>2.5</td>\n",
       "      <td>1040.0</td>\n",
       "      <td>0.0</td>\n",
       "      <td>0.0</td>\n",
       "      <td>676.0</td>\n",
       "      <td>28</td>\n",
       "      <td>79.99</td>\n",
       "    </tr>\n",
       "    <tr>\n",
       "      <th>1</th>\n",
       "      <td>540.0</td>\n",
       "      <td>0.0</td>\n",
       "      <td>0.0</td>\n",
       "      <td>162.0</td>\n",
       "      <td>0.0</td>\n",
       "      <td>0.0</td>\n",
       "      <td>0.0</td>\n",
       "      <td>2.5</td>\n",
       "      <td>1055.0</td>\n",
       "      <td>0.0</td>\n",
       "      <td>0.0</td>\n",
       "      <td>676.0</td>\n",
       "      <td>28</td>\n",
       "      <td>61.89</td>\n",
       "    </tr>\n",
       "    <tr>\n",
       "      <th>2</th>\n",
       "      <td>332.5</td>\n",
       "      <td>142.5</td>\n",
       "      <td>0.0</td>\n",
       "      <td>228.0</td>\n",
       "      <td>0.0</td>\n",
       "      <td>0.0</td>\n",
       "      <td>0.0</td>\n",
       "      <td>0.0</td>\n",
       "      <td>932.0</td>\n",
       "      <td>0.0</td>\n",
       "      <td>0.0</td>\n",
       "      <td>594.0</td>\n",
       "      <td>270</td>\n",
       "      <td>40.27</td>\n",
       "    </tr>\n",
       "    <tr>\n",
       "      <th>3</th>\n",
       "      <td>332.5</td>\n",
       "      <td>142.5</td>\n",
       "      <td>0.0</td>\n",
       "      <td>228.0</td>\n",
       "      <td>0.0</td>\n",
       "      <td>0.0</td>\n",
       "      <td>0.0</td>\n",
       "      <td>0.0</td>\n",
       "      <td>932.0</td>\n",
       "      <td>0.0</td>\n",
       "      <td>0.0</td>\n",
       "      <td>594.0</td>\n",
       "      <td>365</td>\n",
       "      <td>41.05</td>\n",
       "    </tr>\n",
       "    <tr>\n",
       "      <th>4</th>\n",
       "      <td>198.6</td>\n",
       "      <td>132.4</td>\n",
       "      <td>0.0</td>\n",
       "      <td>192.0</td>\n",
       "      <td>0.0</td>\n",
       "      <td>0.0</td>\n",
       "      <td>0.0</td>\n",
       "      <td>0.0</td>\n",
       "      <td>978.4</td>\n",
       "      <td>0.0</td>\n",
       "      <td>0.0</td>\n",
       "      <td>825.5</td>\n",
       "      <td>360</td>\n",
       "      <td>44.30</td>\n",
       "    </tr>\n",
       "  </tbody>\n",
       "</table>\n",
       "</div>"
      ],
      "text/plain": [
       "   Cement   Blast Furnance Slag  Fly Ash  Water  Limestone Powder  \\\n",
       "0    540.0                  0.0      0.0  162.0               0.0   \n",
       "1    540.0                  0.0      0.0  162.0               0.0   \n",
       "2    332.5                142.5      0.0  228.0               0.0   \n",
       "3    332.5                142.5      0.0  228.0               0.0   \n",
       "4    198.6                132.4      0.0  192.0               0.0   \n",
       "\n",
       "   Silica Fume  Quartz Powder  Superplasticizer  Coarse Aggregate   Fiber  \\\n",
       "0          0.0            0.0               2.5             1040.0    0.0   \n",
       "1          0.0            0.0               2.5             1055.0    0.0   \n",
       "2          0.0            0.0               0.0              932.0    0.0   \n",
       "3          0.0            0.0               0.0              932.0    0.0   \n",
       "4          0.0            0.0               0.0              978.4    0.0   \n",
       "\n",
       "   Nano-Silica  Fine Aggregate  Age  Compressive Strength  \n",
       "0          0.0           676.0   28                 79.99  \n",
       "1          0.0           676.0   28                 61.89  \n",
       "2          0.0           594.0  270                 40.27  \n",
       "3          0.0           594.0  365                 41.05  \n",
       "4          0.0           825.5  360                 44.30  "
      ]
     },
     "execution_count": 3,
     "metadata": {},
     "output_type": "execute_result"
    }
   ],
   "source": [
    "# Load your dataset\n",
    "data = pd.read_csv('litconcdata.csv')\n",
    "\n",
    "# Show the first few rows of the dataset to understand its structure\n",
    "data.head()\n"
   ]
  },
  {
   "cell_type": "code",
   "execution_count": 4,
   "metadata": {},
   "outputs": [
    {
     "data": {
      "text/plain": [
       "Cement                  0\n",
       "Blast Furnance Slag     0\n",
       "Fly Ash                 0\n",
       "Water                   0\n",
       "Limestone Powder        0\n",
       "Silica Fume             0\n",
       "Quartz Powder           0\n",
       "Superplasticizer        0\n",
       "Coarse Aggregate        0\n",
       "Fiber                   0\n",
       "Nano-Silica             0\n",
       "Fine Aggregate          0\n",
       "Age                     0\n",
       "Compressive Strength    0\n",
       "dtype: int64"
      ]
     },
     "execution_count": 4,
     "metadata": {},
     "output_type": "execute_result"
    }
   ],
   "source": [
    "# Impute missing values using the mean strategy\n",
    "imputer = SimpleImputer(strategy='mean')\n",
    "data_imputed = pd.DataFrame(imputer.fit_transform(data), columns=data.columns)\n",
    "\n",
    "# Check for any remaining missing values\n",
    "data_imputed.isnull().sum()\n"
   ]
  },
  {
   "cell_type": "code",
   "execution_count": 5,
   "metadata": {},
   "outputs": [
    {
     "data": {
      "text/plain": [
       "(   Cement   Blast Furnance Slag  Fly Ash  Water  Limestone Powder  \\\n",
       " 0    540.0                  0.0      0.0  162.0               0.0   \n",
       " 1    540.0                  0.0      0.0  162.0               0.0   \n",
       " 2    332.5                142.5      0.0  228.0               0.0   \n",
       " 3    332.5                142.5      0.0  228.0               0.0   \n",
       " 4    198.6                132.4      0.0  192.0               0.0   \n",
       " \n",
       "    Silica Fume  Quartz Powder  Superplasticizer  Coarse Aggregate   Fiber  \\\n",
       " 0          0.0            0.0               2.5             1040.0    0.0   \n",
       " 1          0.0            0.0               2.5             1055.0    0.0   \n",
       " 2          0.0            0.0               0.0              932.0    0.0   \n",
       " 3          0.0            0.0               0.0              932.0    0.0   \n",
       " 4          0.0            0.0               0.0              978.4    0.0   \n",
       " \n",
       "    Nano-Silica  Fine Aggregate    Age  \n",
       " 0          0.0           676.0   28.0  \n",
       " 1          0.0           676.0   28.0  \n",
       " 2          0.0           594.0  270.0  \n",
       " 3          0.0           594.0  365.0  \n",
       " 4          0.0           825.5  360.0  ,\n",
       " 0    79.99\n",
       " 1    61.89\n",
       " 2    40.27\n",
       " 3    41.05\n",
       " 4    44.30\n",
       " Name: Compressive Strength, dtype: float64)"
      ]
     },
     "execution_count": 5,
     "metadata": {},
     "output_type": "execute_result"
    }
   ],
   "source": [
    "# Separate the features and target variable\n",
    "X = data_imputed.drop(columns=['Compressive Strength'])\n",
    "y = data_imputed['Compressive Strength']\n",
    "\n",
    "# Display the first few rows of X and y to ensure the separation is correct\n",
    "X.head(), y.head()\n"
   ]
  },
  {
   "cell_type": "code",
   "execution_count": 6,
   "metadata": {},
   "outputs": [
    {
     "data": {
      "text/plain": [
       "array([[ 0.58823188, -0.45752958, -0.5743619 , -0.57511062, -0.14117179,\n",
       "        -0.40147228, -0.18225782, -0.6466626 ,  0.54080759, -0.29086898,\n",
       "        -0.21172498, -0.28359272, -0.117069  ],\n",
       "       [ 0.58823188, -0.45752958, -0.5743619 , -0.57511062, -0.14117179,\n",
       "        -0.40147228, -0.18225782, -0.6466626 ,  0.5984478 , -0.29086898,\n",
       "        -0.21172498, -0.28359272, -0.117069  ],\n",
       "       [-0.39077794,  1.36263393, -0.5743619 ,  1.32802785, -0.14117179,\n",
       "        -0.40147228, -0.18225782, -0.83638416,  0.12579805, -0.29086898,\n",
       "        -0.21172498, -0.64525027,  4.41163451],\n",
       "       [-0.39077794,  1.36263393, -0.5743619 ,  1.32802785, -0.14117179,\n",
       "        -0.40147228, -0.18225782, -0.83638416,  0.12579805, -0.29086898,\n",
       "        -0.21172498, -0.64525027,  6.18943134],\n",
       "       [-1.02253416,  1.23362585, -0.5743619 ,  0.28995232, -0.14117179,\n",
       "        -0.40147228, -0.18225782, -0.83638416,  0.30409844, -0.29086898,\n",
       "        -0.21172498,  0.37577073,  6.09586309]])"
      ]
     },
     "execution_count": 6,
     "metadata": {},
     "output_type": "execute_result"
    }
   ],
   "source": [
    "# Standardize the features\n",
    "scaler = StandardScaler()\n",
    "X_scaled = scaler.fit_transform(X)\n",
    "\n",
    "# Check the transformed features\n",
    "X_scaled[:5]  # Displaying the first 5 rows of scaled data\n"
   ]
  },
  {
   "cell_type": "code",
   "execution_count": 7,
   "metadata": {},
   "outputs": [
    {
     "data": {
      "text/plain": [
       "((2996, 13), (749, 13))"
      ]
     },
     "execution_count": 7,
     "metadata": {},
     "output_type": "execute_result"
    }
   ],
   "source": [
    "# Split the data into training and testing sets\n",
    "X_train, X_test, y_train, y_test = train_test_split(X_scaled, y, test_size=0.2, random_state=42)\n",
    "\n",
    "# Display the shape of the training and testing sets\n",
    "X_train.shape, X_test.shape\n"
   ]
  },
  {
   "cell_type": "code",
   "execution_count": 8,
   "metadata": {},
   "outputs": [
    {
     "name": "stdout",
     "output_type": "stream",
     "text": [
      "0:\tlearn: 38.8592723\ttotal: 149ms\tremaining: 2m 28s\n",
      "200:\tlearn: 4.8044156\ttotal: 590ms\tremaining: 2.34s\n",
      "400:\tlearn: 3.8411745\ttotal: 1.06s\tremaining: 1.59s\n",
      "600:\tlearn: 3.2943005\ttotal: 1.54s\tremaining: 1.02s\n",
      "800:\tlearn: 2.9736452\ttotal: 2.01s\tremaining: 499ms\n",
      "999:\tlearn: 2.7386167\ttotal: 2.48s\tremaining: 0us\n"
     ]
    },
    {
     "data": {
      "text/plain": [
       "<catboost.core.CatBoostRegressor at 0x17b43d1c908>"
      ]
     },
     "execution_count": 8,
     "metadata": {},
     "output_type": "execute_result"
    }
   ],
   "source": [
    "# Initialize the CatBoost Regressor\n",
    "model = CatBoostRegressor(iterations=1000, learning_rate=0.1, depth=6, verbose=200)\n",
    "\n",
    "# Train the model on the training data\n",
    "model.fit(X_train, y_train)\n"
   ]
  },
  {
   "cell_type": "code",
   "execution_count": 9,
   "metadata": {},
   "outputs": [
    {
     "data": {
      "text/plain": [
       "array([ 46.40895343, 140.16453983,  42.5007577 ,  58.29581729,\n",
       "        47.64807178])"
      ]
     },
     "execution_count": 9,
     "metadata": {},
     "output_type": "execute_result"
    }
   ],
   "source": [
    "# Make predictions on the test set\n",
    "y_pred = model.predict(X_test)\n",
    "\n",
    "# Display the first few predicted values\n",
    "y_pred[:5]\n"
   ]
  },
  {
   "cell_type": "code",
   "execution_count": 10,
   "metadata": {},
   "outputs": [
    {
     "name": "stdout",
     "output_type": "stream",
     "text": [
      "Mean Squared Error: 25.12604392672313\n",
      "R² Score: 0.9857103216058901\n"
     ]
    }
   ],
   "source": [
    "# Evaluate the model\n",
    "mse = mean_squared_error(y_test, y_pred)\n",
    "r2 = r2_score(y_test, y_pred)\n",
    "\n",
    "print(f\"Mean Squared Error: {mse}\")\n",
    "print(f\"R² Score: {r2}\")\n"
   ]
  },
  {
   "cell_type": "code",
   "execution_count": 12,
   "metadata": {},
   "outputs": [
    {
     "name": "stdout",
     "output_type": "stream",
     "text": [
      "0:\tlearn: 38.8592723\ttotal: 2.93ms\tremaining: 2.93s\n",
      "200:\tlearn: 4.8044156\ttotal: 494ms\tremaining: 1.96s\n",
      "400:\tlearn: 3.8411745\ttotal: 963ms\tremaining: 1.44s\n",
      "600:\tlearn: 3.2943005\ttotal: 1.43s\tremaining: 951ms\n",
      "800:\tlearn: 2.9736452\ttotal: 1.91s\tremaining: 476ms\n",
      "999:\tlearn: 2.7386167\ttotal: 2.41s\tremaining: 0us\n"
     ]
    }
   ],
   "source": [
    "# Import necessary libraries\n",
    "import pandas as pd\n",
    "import numpy as np\n",
    "from sklearn.model_selection import train_test_split\n",
    "from sklearn.preprocessing import StandardScaler\n",
    "from sklearn.impute import SimpleImputer\n",
    "from catboost import CatBoostRegressor\n",
    "import pickle\n",
    "\n",
    "# Load the dataset\n",
    "data = pd.read_csv('litconcdata.csv')\n",
    "\n",
    "# Handle missing values\n",
    "imputer = SimpleImputer(strategy='mean')\n",
    "data_imputed = pd.DataFrame(imputer.fit_transform(data), columns=data.columns)\n",
    "\n",
    "# Separate features and target variable\n",
    "X = data_imputed.drop(columns=['Compressive Strength'])\n",
    "y = data_imputed['Compressive Strength']\n",
    "\n",
    "# Feature scaling\n",
    "scaler = StandardScaler()\n",
    "X_scaled = scaler.fit_transform(X)\n",
    "\n",
    "# Split into training and test sets\n",
    "X_train, X_test, y_train, y_test = train_test_split(X_scaled, y, test_size=0.2, random_state=42)\n",
    "\n",
    "# Train the CatBoost Regressor model\n",
    "model = CatBoostRegressor(iterations=1000, learning_rate=0.1, depth=6, verbose=200)\n",
    "model.fit(X_train, y_train)\n",
    "\n",
    "# Save the trained model and scaler for later use\n",
    "with open('catboost_model.pkl', 'wb') as f:\n",
    "    pickle.dump(model, f)\n",
    "\n",
    "with open('scaler.pkl', 'wb') as f:\n",
    "    pickle.dump(scaler, f)\n"
   ]
  },
  {
   "cell_type": "code",
   "execution_count": 13,
   "metadata": {},
   "outputs": [],
   "source": [
    "# Load the saved model and scaler\n",
    "with open('catboost_model.pkl', 'rb') as f:\n",
    "    model = pickle.load(f)\n",
    "\n",
    "with open('scaler.pkl', 'rb') as f:\n",
    "    scaler = pickle.load(f)\n",
    "\n",
    "# Function to predict compressive strength based on input features\n",
    "def predict_compressive_strength(input_values):\n",
    "    \"\"\"\n",
    "    Takes input values as a dictionary, applies scaling, and predicts the compressive strength.\n",
    "    \"\"\"\n",
    "    # Convert input to DataFrame (assuming input values are in the same order as the dataset)\n",
    "    input_df = pd.DataFrame([input_values])\n",
    "    \n",
    "    # Scale the input values using the scaler that was used during training\n",
    "    input_scaled = scaler.transform(input_df)\n",
    "    \n",
    "    # Predict the compressive strength\n",
    "    predicted_strength = model.predict(input_scaled)\n",
    "    \n",
    "    return predicted_strength[0]\n"
   ]
  },
  {
   "cell_type": "code",
   "execution_count": 14,
   "metadata": {},
   "outputs": [
    {
     "name": "stdout",
     "output_type": "stream",
     "text": [
      "The predicted compressive strength is: 61.01137047727537 MPa\n"
     ]
    },
    {
     "name": "stderr",
     "output_type": "stream",
     "text": [
      "c:\\Users\\nt465\\.conda\\envs\\testenv\\lib\\site-packages\\sklearn\\base.py:493: FutureWarning: The feature names should match those that were passed during fit. Starting version 1.2, an error will be raised.\n",
      "Feature names unseen at fit time:\n",
      "- Blast Furnace Slag\n",
      "- Cement\n",
      "- Coarse Aggregate\n",
      "Feature names seen at fit time, yet now missing:\n",
      "- Blast Furnance Slag\n",
      "- Cement \n",
      "- Coarse Aggregate \n",
      "\n",
      "  warnings.warn(message, FutureWarning)\n"
     ]
    }
   ],
   "source": [
    "# Sample input data - replace with actual values\n",
    "input_data = {\n",
    "    'Cement': 400,                # Cement (in kg)\n",
    "    'Blast Furnace Slag': 120,    # Blast Furnace Slag (in kg)\n",
    "    'Fly Ash': 60,                # Fly Ash (in kg)\n",
    "    'Water': 180,                 # Water (in kg)\n",
    "    'Limestone Powder': 100,       # Limestone Powder (in kg)\n",
    "    'Silica Fume': 5,             # Silica Fume (in kg)\n",
    "    'Quartz Powder': 10,          # Quartz Powder (in kg)\n",
    "    'Superplasticizer': 2,        # Superplasticizer (in kg)\n",
    "    'Coarse Aggregate': 800,      # Coarse Aggregate (in kg)\n",
    "    'Fiber': 3,                   # Fiber (in kg)\n",
    "    'Nano-Silica': 2,             # Nano-Silica (in kg)\n",
    "    'Fine Aggregate': 600,        # Fine Aggregate (in kg)\n",
    "    'Age': 28                     # Age of the concrete mix (in days)\n",
    "}\n",
    "\n",
    "# Get the predicted compressive strength\n",
    "predicted_strength = predict_compressive_strength(input_data)\n",
    "\n",
    "# Display the predicted compressive strength\n",
    "print(f\"The predicted compressive strength is: {predicted_strength} MPa\")\n"
   ]
  },
  {
   "cell_type": "code",
   "execution_count": 16,
   "metadata": {},
   "outputs": [
    {
     "name": "stdout",
     "output_type": "stream",
     "text": [
      "0:\tlearn: 38.8592723\ttotal: 2.96ms\tremaining: 2.95s\n",
      "200:\tlearn: 4.8044156\ttotal: 489ms\tremaining: 1.95s\n",
      "400:\tlearn: 3.8411745\ttotal: 952ms\tremaining: 1.42s\n",
      "600:\tlearn: 3.2943005\ttotal: 1.43s\tremaining: 948ms\n",
      "800:\tlearn: 2.9736452\ttotal: 1.91s\tremaining: 475ms\n",
      "999:\tlearn: 2.7386167\ttotal: 2.42s\tremaining: 0us\n",
      "Mean Squared Error (MSE): 25.12604392672313\n",
      "R² Score: 0.9857103216058901\n",
      "The predicted compressive strength is: 61.01137047727537 MPa\n"
     ]
    },
    {
     "name": "stderr",
     "output_type": "stream",
     "text": [
      "c:\\Users\\nt465\\.conda\\envs\\testenv\\lib\\site-packages\\sklearn\\base.py:493: FutureWarning: The feature names should match those that were passed during fit. Starting version 1.2, an error will be raised.\n",
      "Feature names unseen at fit time:\n",
      "- Blast Furnace Slag\n",
      "- Cement\n",
      "- Coarse Aggregate\n",
      "Feature names seen at fit time, yet now missing:\n",
      "- Blast Furnance Slag\n",
      "- Cement \n",
      "- Coarse Aggregate \n",
      "\n",
      "  warnings.warn(message, FutureWarning)\n"
     ]
    }
   ],
   "source": [
    "# Import necessary libraries\n",
    "import pandas as pd\n",
    "import numpy as np\n",
    "from sklearn.model_selection import train_test_split\n",
    "from sklearn.preprocessing import StandardScaler\n",
    "from sklearn.impute import SimpleImputer\n",
    "from catboost import CatBoostRegressor\n",
    "from sklearn.metrics import mean_squared_error, r2_score\n",
    "import pickle\n",
    "\n",
    "# Load the dataset\n",
    "data = pd.read_csv('litconcdata.csv')\n",
    "\n",
    "# Handle missing values\n",
    "imputer = SimpleImputer(strategy='mean')\n",
    "data_imputed = pd.DataFrame(imputer.fit_transform(data), columns=data.columns)\n",
    "\n",
    "# Separate features and target variable\n",
    "X = data_imputed.drop(columns=['Compressive Strength'])\n",
    "y = data_imputed['Compressive Strength']\n",
    "\n",
    "# Feature scaling\n",
    "scaler = StandardScaler()\n",
    "X_scaled = scaler.fit_transform(X)\n",
    "\n",
    "# Split into training and test sets\n",
    "X_train, X_test, y_train, y_test = train_test_split(X_scaled, y, test_size=0.2, random_state=42)\n",
    "\n",
    "# Train the CatBoost Regressor model\n",
    "model = CatBoostRegressor(iterations=1000, learning_rate=0.1, depth=6, verbose=200)\n",
    "model.fit(X_train, y_train)\n",
    "\n",
    "# Save the trained model and scaler for later use\n",
    "with open('catboost_model.pkl', 'wb') as f:\n",
    "    pickle.dump(model, f)\n",
    "\n",
    "with open('scaler.pkl', 'wb') as f:\n",
    "    pickle.dump(scaler, f)\n",
    "\n",
    "# Step 1: Evaluate the model on test data\n",
    "y_pred = model.predict(X_test)\n",
    "\n",
    "# Calculate the Mean Squared Error (MSE) and R² score\n",
    "mse = mean_squared_error(y_test, y_pred)\n",
    "r2 = r2_score(y_test, y_pred)\n",
    "\n",
    "# Display the evaluation metrics\n",
    "print(f\"Mean Squared Error (MSE): {mse}\")\n",
    "print(f\"R² Score: {r2}\")\n",
    "\n",
    "# Step 2: Function to predict compressive strength based on user input\n",
    "def predict_compressive_strength(input_values):\n",
    "    \"\"\"\n",
    "    Takes input values as a dictionary, applies scaling, and predicts the compressive strength.\n",
    "    \"\"\"\n",
    "    # Convert input to DataFrame (assuming input values are in the same order as the dataset)\n",
    "    input_df = pd.DataFrame([input_values])\n",
    "    \n",
    "    # Scale the input values using the scaler that was used during training\n",
    "    input_scaled = scaler.transform(input_df)\n",
    "    \n",
    "    # Predict the compressive strength\n",
    "    predicted_strength = model.predict(input_scaled)\n",
    "    \n",
    "    return predicted_strength[0]\n",
    "\n",
    "# Example: Using the function to predict compressive strength based on new input\n",
    "input_data = {\n",
    "    'Cement': 400,                # Cement (in kg)\n",
    "    'Blast Furnace Slag': 120,    # Blast Furnace Slag (in kg)\n",
    "    'Fly Ash': 60,                # Fly Ash (in kg)\n",
    "    'Water': 180,                 # Water (in kg)\n",
    "    'Limestone Powder': 100,       # Limestone Powder (in kg)\n",
    "    'Silica Fume': 5,             # Silica Fume (in kg)\n",
    "    'Quartz Powder': 10,          # Quartz Powder (in kg)\n",
    "    'Superplasticizer': 2,        # Superplasticizer (in kg)\n",
    "    'Coarse Aggregate': 800,      # Coarse Aggregate (in kg)\n",
    "    'Fiber': 3,                   # Fiber (in kg)\n",
    "    'Nano-Silica': 2,             # Nano-Silica (in kg)\n",
    "    'Fine Aggregate': 600,        # Fine Aggregate (in kg)\n",
    "    'Age': 28                     # Age of the concrete mix (in days)\n",
    "}\n",
    "\n",
    "# Get the predicted compressive strength\n",
    "predicted_strength = predict_compressive_strength(input_data)\n",
    "\n",
    "# Display the predicted compressive strength\n",
    "print(f\"The predicted compressive strength is: {predicted_strength} MPa\")\n"
   ]
  },
  {
   "cell_type": "code",
   "execution_count": 18,
   "metadata": {},
   "outputs": [
    {
     "name": "stdout",
     "output_type": "stream",
     "text": [
      "Maximum and Minimum values for each input feature:\n",
      "                     Max Value  Min Value\n",
      "Cement                 1251.20     102.00\n",
      "Blast Furnance Slag     440.00       0.00\n",
      "Fly Ash                 356.00       0.00\n",
      "Water                   476.00      72.00\n",
      "Limestone Powder       1058.20       0.00\n",
      "Silica Fume             433.70       0.00\n",
      "Quartz Powder           397.00       0.00\n",
      "Superplasticizer         57.00       0.00\n",
      "Coarse Aggregate       1398.00       0.00\n",
      "Fiber                   234.00       0.00\n",
      "Nano-Silica              58.59       0.00\n",
      "Fine Aggregate         1757.80     163.12\n",
      "Age                     365.00       1.00\n"
     ]
    }
   ],
   "source": [
    "max_values = data.drop(columns=['Compressive Strength']).max()\n",
    "min_values = data.drop(columns=['Compressive Strength']).min()\n",
    "\n",
    "# Combine max and min values into a DataFrame for easy display\n",
    "min_max_df = pd.DataFrame({\n",
    "    'Max Value': max_values,\n",
    "    'Min Value': min_values\n",
    "})\n",
    "\n",
    "# Display the table\n",
    "print(\"Maximum and Minimum values for each input feature:\")\n",
    "print(min_max_df)"
   ]
  },
  {
   "cell_type": "code",
   "execution_count": null,
   "metadata": {},
   "outputs": [],
   "source": []
  }
 ],
 "metadata": {
  "kernelspec": {
   "display_name": "Python 3",
   "language": "python",
   "name": "python3"
  },
  "language_info": {
   "codemirror_mode": {
    "name": "ipython",
    "version": 3
   },
   "file_extension": ".py",
   "mimetype": "text/x-python",
   "name": "python",
   "nbconvert_exporter": "python",
   "pygments_lexer": "ipython3",
   "version": "3.7.12"
  }
 },
 "nbformat": 4,
 "nbformat_minor": 2
}
